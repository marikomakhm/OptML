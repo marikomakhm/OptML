{
 "cells": [
  {
   "cell_type": "code",
   "execution_count": 1,
   "metadata": {},
   "outputs": [],
   "source": [
    "import numpy as np\n",
    "import pandas as pd\n",
    "import matplotlib.pyplot as plt\n",
    "\n",
    "%matplotlib inline"
   ]
  },
  {
   "cell_type": "code",
   "execution_count": null,
   "metadata": {},
   "outputs": [],
   "source": [
    "# (X_train, y_train), (X_test, y_test) = tf.keras.datasets.mnist.load_data()\n",
    "# (X_train, y_train), (X_test, y_test) = tf.keras.datasets.boston_housing.load_data()"
   ]
  },
  {
   "cell_type": "code",
   "execution_count": null,
   "metadata": {},
   "outputs": [],
   "source": [
    "# display data\n",
    "# print(y_train[0])\n",
    "# plt.imshow(X_train[0], cmap='Greys')"
   ]
  },
  {
   "cell_type": "code",
   "execution_count": null,
   "metadata": {},
   "outputs": [],
   "source": [
    "def compute_loss(y, tx, w):\n",
    "    \"\"\" Compute loss by MSE.\"\"\"\n",
    "    e = y - tx.dot(w)\n",
    "    mse = e.dot(e) / (2 * len(e))\n",
    "    return mse"
   ]
  },
  {
   "cell_type": "code",
   "execution_count": null,
   "metadata": {},
   "outputs": [],
   "source": [
    "def create_mini_batches(X, y, batch_size=256):\n",
    "    mini_batches = []\n",
    "    data = np.column_stack((np.array([x.ravel() for x in X_train]), y_train))\n",
    "    np.random.shuffle(data)\n",
    "    n_mini_batches = data.shape[0] // batch_size\n",
    "    count = 0\n",
    "    for i in range(n_mini_batches + 1):\n",
    "        mini_batch = data[i * batch_size:min((i + 1) * batch_size, data.shape[0]), :]\n",
    "        X_mini_batch = np.array([x.reshape((28, 28)) for x in mini_batch[:, :-1]])\n",
    "        y_mini_batch = mini_batch[:, -1].reshape((-1, 1))\n",
    "        mini_batches.append((X_mini_batch, y_mini_batch))\n",
    "    return mini_batches"
   ]
  },
  {
   "cell_type": "code",
   "execution_count": null,
   "metadata": {},
   "outputs": [],
   "source": [
    "w = np.zeros((X.shape[1], 1))\n",
    "error_list = []\n",
    "n_iter = 100\n",
    "\n",
    "for i in range(n_iter):\n",
    "    mbatches = create_mini_batches(X_train, y_train)\n",
    "    for mbatch in mbatches:\n",
    "        X_mbatch, y_mbatch = mbatch\n",
    "        w -= learning_rate * gradient(X_mbatch, y_mbatch, w)\n",
    "        error_list.append(compute_loss(X_mbatch, y_mbatch, w))"
   ]
  },
  {
   "cell_type": "markdown",
   "metadata": {},
   "source": [
    "#### PyTorch"
   ]
  },
  {
   "cell_type": "code",
   "execution_count": 2,
   "metadata": {},
   "outputs": [],
   "source": [
    "import torch\n",
    "import torch.nn as nn\n",
    "import torch.nn.functional as F\n",
    "import torch.utils.data\n",
    "from torch.autograd import Variable\n",
    "import torchvision\n",
    "from torch.utils.data import DataLoader\n",
    "\n",
    "from sklearn.model_selection import train_test_split\n",
    "from sklearn.preprocessing import normalize, scale"
   ]
  },
  {
   "cell_type": "code",
   "execution_count": 197,
   "metadata": {},
   "outputs": [
    {
     "name": "stderr",
     "output_type": "stream",
     "text": [
      "C:\\Users\\Mariko\\Anaconda3\\envs\\py3.7\\lib\\site-packages\\sklearn\\utils\\validation.py:595: DataConversionWarning: Data with input dtype int64 was converted to float64 by the scale function.\n",
      "  warnings.warn(msg, DataConversionWarning)\n",
      "C:\\Users\\Mariko\\Anaconda3\\envs\\py3.7\\lib\\site-packages\\sklearn\\utils\\validation.py:595: DataConversionWarning: Data with input dtype int64 was converted to float64 by the scale function.\n",
      "  warnings.warn(msg, DataConversionWarning)\n"
     ]
    }
   ],
   "source": [
    "df = pd.read_csv('data/train.csv')\n",
    "y = df['label'].values\n",
    "X = df.drop(['label'],1).values\n",
    "X_train, X_test, y_train, y_test = train_test_split(X, y, test_size=0.2)\n",
    "\n",
    "# standardize dataset\n",
    "X_train = scale(X_train, axis=1, with_mean=True, with_std=True)\n",
    "X_test = scale(X_test, axis=1, with_mean=True, with_std=True)\n",
    "\n",
    "batch_size = 64\n",
    "\n",
    "torch_X_train = torch.from_numpy(X_train).type(torch.LongTensor)\n",
    "torch_y_train = torch.from_numpy(y_train).type(torch.LongTensor)\n",
    "\n",
    "torch_X_test = torch.from_numpy(X_test).type(torch.LongTensor)\n",
    "torch_y_test = torch.from_numpy(y_test).type(torch.LongTensor)\n",
    "\n",
    "# Pytorch train and test sets\n",
    "train = torch.utils.data.TensorDataset(torch_X_train, torch_y_train)\n",
    "test = torch.utils.data.TensorDataset(torch_X_test, torch_y_test)\n",
    "\n",
    "# data loader\n",
    "train_loader = torch.utils.data.DataLoader(train, batch_size=batch_size, shuffle=False)\n",
    "test_loader = torch.utils.data.DataLoader(test, batch_size=batch_size, shuffle=False)"
   ]
  },
  {
   "cell_type": "code",
   "execution_count": 14,
   "metadata": {},
   "outputs": [],
   "source": [
    "# batch_size = 64\n",
    "\n",
    "# train_loader = DataLoader(\n",
    "#     torchvision.datasets.MNIST('/files/', train=True, download=True,\n",
    "#                                transform=torchvision.transforms.Compose([\n",
    "#                                    torchvision.transforms.ToTensor(),\n",
    "#                                    torchvision.transforms.Normalize(\n",
    "#                                        (0.1307,), (0.3015,))])),\n",
    "#     batch_size=batch_size, shuffle=True)\n",
    "\n",
    "# test_loader = torch.utils.data.DataLoader(\n",
    "#     torchvision.datasets.MNIST('/files/', train=False, download=True,\n",
    "#                                transform=torchvision.transforms.Compose([\n",
    "#                                    torchvision.transforms.ToTensor(),\n",
    "#                                    torchvision.transforms.Normalize(\n",
    "#                                        (0.1325,), (0.3039,))])),\n",
    "#     batch_size=1000, shuffle=True)"
   ]
  },
  {
   "cell_type": "code",
   "execution_count": 198,
   "metadata": {},
   "outputs": [],
   "source": [
    "class MLP(nn.Module):\n",
    "    def __init__(self):\n",
    "        super(MLP, self).__init__()\n",
    "        self.linear1 = nn.Linear(784,250)\n",
    "        self.linear2 = nn.Linear(250,100)\n",
    "        self.linear3 = nn.Linear(100,10)\n",
    "        self.layers = [self.linear1, self.linear2, self.linear3]\n",
    "    \n",
    "    def forward(self, X):\n",
    "        X = torch.tensor(X, dtype=torch.float)\n",
    "        X = F.relu(self.linear1(X))\n",
    "        X = F.relu(self.linear2(X))\n",
    "        X = self.linear3(X)\n",
    "        return F.log_softmax(X, dim=1)"
   ]
  },
  {
   "cell_type": "code",
   "execution_count": 318,
   "metadata": {},
   "outputs": [],
   "source": [
    "losses_dict = dict()"
   ]
  },
  {
   "cell_type": "code",
   "execution_count": 246,
   "metadata": {},
   "outputs": [],
   "source": [
    "model = MLP()\n",
    "lr = 0.01\n",
    "optimizers = {\n",
    "    'sgd0.9': torch.optim.SGD(model.parameters(), lr=lr, momentum=0.9, nesterov=True),\n",
    "    'sgd0.5': torch.optim.SGD(model.parameters(), lr=lr, momentum=0.5),\n",
    "    'adam': torch.optim.Adam(model.parameters(), lr=lr),\n",
    "    'adadelta': torch.optim.Adadelta(model.parameters(), lr=lr),\n",
    "    'rmsprop': torch.optim.RMSprop(model.parameters(), lr=lr)\n",
    "}"
   ]
  },
  {
   "cell_type": "code",
   "execution_count": 247,
   "metadata": {},
   "outputs": [],
   "source": [
    "# model = MLP()\n",
    "losses = []\n",
    "# wbs = [(l.weight, l.bias) for l in model.layers]\n",
    "\n",
    "epochs = 5\n",
    "criterion = nn.NLLLoss()"
   ]
  },
  {
   "cell_type": "code",
   "execution_count": 374,
   "metadata": {
    "scrolled": true
   },
   "outputs": [
    {
     "name": "stdout",
     "output_type": "stream",
     "text": [
      "Training model 0\n",
      "  Epoch 0\n"
     ]
    },
    {
     "name": "stderr",
     "output_type": "stream",
     "text": [
      "C:\\Users\\Mariko\\Anaconda3\\envs\\py3.7\\lib\\site-packages\\ipykernel_launcher.py:10: UserWarning: To copy construct from a tensor, it is recommended to use sourceTensor.clone().detach() or sourceTensor.clone().detach().requires_grad_(True), rather than torch.tensor(sourceTensor).\n",
      "  # Remove the CWD from sys.path while we load stuff.\n"
     ]
    },
    {
     "name": "stdout",
     "output_type": "stream",
     "text": [
      "  Epoch 1\n",
      "  Epoch 2\n",
      "  Epoch 3\n",
      "  Epoch 4\n",
      "Training model 1\n",
      "  Epoch 0\n",
      "  Epoch 1\n",
      "  Epoch 2\n",
      "  Epoch 3\n",
      "  Epoch 4\n",
      "Training model 2\n",
      "  Epoch 0\n",
      "  Epoch 1\n",
      "  Epoch 2\n",
      "  Epoch 3\n",
      "  Epoch 4\n",
      "Training model 3\n",
      "  Epoch 0\n",
      "  Epoch 1\n",
      "  Epoch 2\n",
      "  Epoch 3\n",
      "  Epoch 4\n",
      "Training model 4\n",
      "  Epoch 0\n",
      "  Epoch 1\n",
      "  Epoch 2\n",
      "  Epoch 3\n",
      "  Epoch 4\n",
      "Training model 5\n",
      "  Epoch 0\n",
      "  Epoch 1\n",
      "  Epoch 2\n",
      "  Epoch 3\n",
      "  Epoch 4\n",
      "Training model 6\n",
      "  Epoch 0\n",
      "  Epoch 1\n",
      "  Epoch 2\n",
      "  Epoch 3\n",
      "  Epoch 4\n",
      "Training model 7\n",
      "  Epoch 0\n",
      "  Epoch 1\n",
      "  Epoch 2\n",
      "  Epoch 3\n",
      "  Epoch 4\n",
      "Training model 8\n",
      "  Epoch 0\n",
      "  Epoch 1\n",
      "  Epoch 2\n",
      "  Epoch 3\n",
      "  Epoch 4\n",
      "Training model 9\n",
      "  Epoch 0\n",
      "  Epoch 1\n",
      "  Epoch 2\n",
      "  Epoch 3\n",
      "  Epoch 4\n"
     ]
    }
   ],
   "source": [
    "all_losses = []\n",
    "nb_models = 10\n",
    "nb_epochs = 5\n",
    "for i in range(nb_models):\n",
    "    model = MLP()\n",
    "    optimizer = torch.optim.RMSprop(model.parameters(), lr=0.01)\n",
    "    losses = []\n",
    "    print('Training model', i)\n",
    "    for epoch in range(nb_epochs):\n",
    "        print('  Epoch', epoch)\n",
    "        for batch_idx, (data, target) in enumerate(train_loader):\n",
    "            optimizer.zero_grad()\n",
    "            output = model(data)\n",
    "            loss = criterion(output, target)\n",
    "            if epoch % 10 == 0:\n",
    "                losses.append(loss.item())\n",
    "            loss.backward()\n",
    "            optimizer.step()\n",
    "    all_losses.append(losses)"
   ]
  },
  {
   "cell_type": "code",
   "execution_count": 375,
   "metadata": {},
   "outputs": [],
   "source": [
    "losses = np.array(all_losses).mean(axis=0)"
   ]
  },
  {
   "cell_type": "code",
   "execution_count": 376,
   "metadata": {},
   "outputs": [
    {
     "data": {
      "text/plain": [
       "525"
      ]
     },
     "execution_count": 376,
     "metadata": {},
     "output_type": "execute_result"
    }
   ],
   "source": [
    "len(losses)"
   ]
  },
  {
   "cell_type": "code",
   "execution_count": 383,
   "metadata": {},
   "outputs": [
    {
     "data": {
      "text/plain": [
       "[<matplotlib.lines.Line2D at 0x15c825bd400>]"
      ]
     },
     "execution_count": 383,
     "metadata": {},
     "output_type": "execute_result"
    },
    {
     "data": {
      "image/png": "[encoded data removed]",
      "text/plain": [
       "<Figure size 432x288 with 1 Axes>"
      ]
     },
     "metadata": {
      "needs_background": "light"
     },
     "output_type": "display_data"
    }
   ],
   "source": [
    "plt.plot(losses)"
   ]
  },
  {
   "cell_type": "code",
   "execution_count": 384,
   "metadata": {},
   "outputs": [],
   "source": [
    "losses_dict['rmsprop'] = losses"
   ]
  },
  {
   "cell_type": "code",
   "execution_count": 385,
   "metadata": {},
   "outputs": [],
   "source": [
    "l = losses_dict.copy()"
   ]
  },
  {
   "cell_type": "code",
   "execution_count": 275,
   "metadata": {},
   "outputs": [],
   "source": [
    "for i in range(5):\n",
    "    l['rmsprop'][i] = 3"
   ]
  },
  {
   "cell_type": "code",
   "execution_count": 386,
   "metadata": {},
   "outputs": [],
   "source": [
    "colors = ['blue', 'green', 'red', 'orange', 'purple']"
   ]
  },
  {
   "cell_type": "code",
   "execution_count": 396,
   "metadata": {},
   "outputs": [
    {
     "data": {
      "image/png": "[encoded data removed]",
      "text/plain": [
       "<Figure size 576x432 with 1 Axes>"
      ]
     },
     "metadata": {
      "needs_background": "light"
     },
     "output_type": "display_data"
    }
   ],
   "source": [
    "plt.figure(figsize=(8, 6))\n",
    "i = 0\n",
    "for k, v in l.items():\n",
    "    values = [x for j, x in enumerate(v) if j % 6 == 0]\n",
    "    plt.plot(values, label=k, alpha=0.6, color=colors[i])\n",
    "    i += 1\n",
    "plt.legend()\n",
    "plt.show()"
   ]
  },
  {
   "cell_type": "code",
   "execution_count": null,
   "metadata": {},
   "outputs": [],
   "source": [
    "# adabound"
   ]
  },
  {
   "cell_type": "code",
   "execution_count": null,
   "metadata": {},
   "outputs": [],
   "source": [
    "def train(model, train_loader, optimizer, epoch):\n",
    "    model.train()\n",
    "    for batch_idx, (data, target) in enumerate(train_loader):\n",
    "        optimizer.zero_grad()\n",
    "        output = model(data)\n",
    "        loss = F.nll_loss(output, target)\n",
    "        loss.backward()\n",
    "        optimizer.step()\n",
    "        if batch_idx % 100 == 0:\n",
    "            l = loss.item()\n",
    "            print('Train Epoch: {} [{}/{} ({:.0f}%)]\\tLoss: {:.6f}'.format(\n",
    "                epoch, batch_idx * len(data), len(train_loader.dataset),\n",
    "                100. * batch_idx / len(train_loader), l))\n",
    "            train_losses.append(l)"
   ]
  },
  {
   "cell_type": "code",
   "execution_count": null,
   "metadata": {
    "scrolled": true
   },
   "outputs": [],
   "source": [
    "model = Net()\n",
    "optimizer = torch.optim.Adam(model.parameters()) # lr=lr, momentum=momentum)\n",
    "train_losses = []\n",
    "\n",
    "for epoch in range(1, epochs + 1):\n",
    "        train(model, train_loader, optimizer, epoch)"
   ]
  },
  {
   "cell_type": "code",
   "execution_count": null,
   "metadata": {
    "scrolled": false
   },
   "outputs": [],
   "source": [
    "plt.plot(train_losses)"
   ]
  },
  {
   "cell_type": "code",
   "execution_count": null,
   "metadata": {},
   "outputs": [],
   "source": [
    "train_losses_dict = dict()\n",
    "train_losses_dict['sgd'] = train_losses"
   ]
  }
 ],
 "metadata": {
  "kernelspec": {
   "display_name": "Python 3",
   "language": "python",
   "name": "python3"
  },
  "language_info": {
   "codemirror_mode": {
    "name": "ipython",
    "version": 3
   },
   "file_extension": ".py",
   "mimetype": "text/x-python",
   "name": "python",
   "nbconvert_exporter": "python",
   "pygments_lexer": "ipython3",
   "version": "3.7.3"
  }
 },
 "nbformat": 4,
 "nbformat_minor": 2
}
